{
 "cells": [
  {
   "cell_type": "markdown",
   "metadata": {},
   "source": [
    "# Production planning and inventory control"
   ]
  },
  {
   "cell_type": "markdown",
   "metadata": {},
   "source": [
    "### For more information about the software: <a href=\"https://www.ibm.com/mx-es/analytics/cplex-optimizer\">Here</a>\n",
    "\n",
    "### <a href=\" https://jaime-yair.github.io/\">Home </a>\n",
    "\n",
    "This is an example from:\n",
    "\n",
    "Taha, H. A. (2017). Operations research an introduction. © Pearson Education Limited 2017."
   ]
  },
  {
   "cell_type": "markdown",
   "metadata": {},
   "source": [
    "In preparation for the winter season, a clothing company is manufacturing parka and goose overcoats, insulated pants, and gloves. All products are manufactured in four different departments: cutting, insulating, sewing, and packaging. The company has received firm orders for its products. The contract stipulates a penalty for undelivered items. Devise an optimal production plan for the company based on the following data:"
   ]
  },
  {
   "cell_type": "markdown",
   "metadata": {},
   "source": [
    "| Department | Parka | Goose | Pants | Gloves | Capacity (hr) |\n",
    "| --- | --- | --- |  ---| ---| ---|\n",
    "| Cutting | 0.3 | 0.3 | 0.25 | 0.15 | 1000|\n",
    "| Insulating | 0.25 | 0.35 | 0.3| 0.1| 1000|\n",
    "| Sewing | 0.45 | 0.5 |0.4 | 0.22|1000 |\n",
    "| Packaging | 0.15 | 0.15 | 0.1 |0.05 |1000 |\n",
    "| Demand | 800 | 750 | 600 |500 | |\n",
    "| Unit profit | 30 | 40 | 20 |10 | |\n",
    "| Unit penalty | 15 | 20 | 10 |8 | |"
   ]
  },
  {
   "cell_type": "markdown",
   "metadata": {},
   "source": [
    "Mathematical Model: The variables of the problem are as follows:\n",
    "\n",
    "$x_1 =$ number of parka jackets\n",
    "\n",
    "$x_2 =$ number of goose jackets\n",
    "\n",
    "$x_3 =$ number of pairs of pants\n",
    "\n",
    "$x_4 =$ number of pairs of gloves"
   ]
  },
  {
   "cell_type": "markdown",
   "metadata": {},
   "source": [
    "The company is penalized for not meeting demand. The objective then is to maximize net profit, defined as\n",
    "\n",
    "Net profit = Total profit - Total penalty"
   ]
  },
  {
   "cell_type": "markdown",
   "metadata": {},
   "source": [
    "The total profit is $30x_1 + 40x_2 + 20x_3 + 10x_4$. To compute the total penalty, the demand constraints can be written as\n",
    "\n",
    "$x_1 + s_1 = 800$\n",
    "\n",
    "$x_2 + s_2 = 750$\n",
    "\n",
    "$x_3 + s_3 = 600$\n",
    "\n",
    "$x_4 + s_4 = 500$\n",
    "\n",
    "$x_j>=0$\n",
    "\n",
    "$s_j>=0$"
   ]
  },
  {
   "cell_type": "markdown",
   "metadata": {},
   "source": [
    "The new variable sj represents the shortage in demand for product j, and the total penalty can be computed as $15s_1 + 20s_2 + 10s_3 + 8s_4$. The complete model thus becomes"
   ]
  },
  {
   "cell_type": "markdown",
   "metadata": {},
   "source": [
    "Maximize $z$ = $30x_1 + 40x_2 + 20x_3 + 10x_4-(15s_1 + 20s_2 + 10s_3 + 8s_4)$\n",
    "\n",
    "subject to\n",
    "\n",
    "$.30x_1 + .30x_2 + .25x3 + .15x_4 =1000$\n",
    "\n",
    "$.25x_1 + .35x_2 + .30x3 + .10x_4 = 1000$\n",
    "\n",
    "$.45x_1 + .50x_2 + .40x3 + .22x_4 = 1000$\n",
    "\n",
    "$.15x_1 + .15x_2 + .10x3 + .05x_4 = 1000$\n",
    "\n",
    "$x_1 + s_1 = 800$\n",
    "\n",
    "$x_2 + s_2 = 750$\n",
    "\n",
    "$x_3 + s_3 = 600$\n",
    "\n",
    "$x_4 + s_4 = 500$\n",
    "\n",
    "$x_j>=0$; $s_j>=0$"
   ]
  },
  {
   "cell_type": "markdown",
   "metadata": {},
   "source": [
    "## Single-Period Production Model"
   ]
  },
  {
   "cell_type": "code",
   "execution_count": 1,
   "metadata": {},
   "outputs": [],
   "source": [
    "from docplex.mp.model import Model\n",
    "import docplex.mp.solution as Solution"
   ]
  },
  {
   "cell_type": "code",
   "execution_count": 2,
   "metadata": {},
   "outputs": [],
   "source": [
    "#Model formulation\n",
    "mdl = Model('Modelo')"
   ]
  },
  {
   "cell_type": "code",
   "execution_count": 3,
   "metadata": {},
   "outputs": [],
   "source": [
    "items = {1:'parka_jackets', 2:'goose_jackets', 3:'pairs_of_pants', 4:'pairs_of_gloves'}"
   ]
  },
  {
   "cell_type": "code",
   "execution_count": 4,
   "metadata": {},
   "outputs": [],
   "source": [
    "#Variables\n",
    "x=mdl.continuous_var_dict(items ,name='x')\n",
    "s=mdl.continuous_var_dict(items ,name='s')"
   ]
  },
  {
   "cell_type": "code",
   "execution_count": 6,
   "metadata": {},
   "outputs": [],
   "source": [
    "Unit_profit={1:30,2:40,3:20,4:10}\n",
    "Unit_penalty={1:15,2:20,3:10,4:8}\n",
    "\n",
    "Capacity_hours={1:1000,2:1000,3:1000,4:1000}\n",
    "\n",
    "Cutting = {1:0.3,2:0.3,3:0.25,4:0.15}\n",
    "Insulating = {1:0.25,2:0.35,3:0.3,4:0.1}\n",
    "Sewing = {1:0.45,2:0.5,3:0.4,4:0.22}\n",
    "Packaging = {1:0.15,2:0.15,3:0.1,4:0.05}\n",
    "\n",
    "Demand = {1:800,2:750,3:600,4:500}"
   ]
  },
  {
   "cell_type": "code",
   "execution_count": 7,
   "metadata": {},
   "outputs": [],
   "source": [
    "# Objetive function = Net profit = Total profit - Total penalty\n",
    "\n",
    "mdl.maximize(mdl.sum(x[i]*Unit_profit[i]-s[i]*Unit_penalty[i] for i in items))"
   ]
  },
  {
   "cell_type": "code",
   "execution_count": 8,
   "metadata": {},
   "outputs": [
    {
     "data": {
      "text/plain": [
       "docplex.mp.LinearConstraint[](0.150x_1+0.150x_2+0.100x_3+0.050x_4,LE,1000)"
      ]
     },
     "execution_count": 8,
     "metadata": {},
     "output_type": "execute_result"
    }
   ],
   "source": [
    "#Restricciones\n",
    "mdl.add_constraint(mdl.sum(x[i]*Cutting[i] for i in items)<=Capacity_hours[1])\n",
    "mdl.add_constraint(mdl.sum(x[i]*Insulating[i] for i in items)<=Capacity_hours[2])\n",
    "mdl.add_constraint(mdl.sum(x[i]*Sewing[i] for i in items)<=Capacity_hours[3])\n",
    "mdl.add_constraint(mdl.sum(x[i]*Packaging[i] for i in items)<=Capacity_hours[4])\n",
    "\n",
    "mdl.add_constraint(x[1]+s[1]==Demand[1])\n",
    "mdl.add_constraint(x[2]+s[2]==Demand[2])\n",
    "mdl.add_constraint(x[3]+s[3]==Demand[3])\n",
    "mdl.add_constraint(x[4]+s[4]==Demand[4])"
   ]
  },
  {
   "cell_type": "code",
   "execution_count": 12,
   "metadata": {},
   "outputs": [
    {
     "name": "stdout",
     "output_type": "stream",
     "text": [
      "\\ This file has been generated by DOcplex\n",
      "\\ ENCODING=ISO-8859-1\n",
      "\\Problem name: Modelo\n",
      "\n",
      "Maximize\n",
      " obj: 30 x_1 + 40 x_2 + 20 x_3 + 10 x_4 - 15 s_1 - 20 s_2 - 10 s_3 - 8 s_4\n",
      "Subject To\n",
      " c1: 0.300000000000 x_1 + 0.300000000000 x_2 + 0.250000000000 x_3\n",
      "     + 0.150000000000 x_4 <= 1000\n",
      " c2: 0.250000000000 x_1 + 0.350000000000 x_2 + 0.300000000000 x_3\n",
      "     + 0.100000000000 x_4 <= 1000\n",
      " c3: 0.450000000000 x_1 + 0.500000000000 x_2 + 0.400000000000 x_3\n",
      "     + 0.220000000000 x_4 <= 1000\n",
      " c4: 0.150000000000 x_1 + 0.150000000000 x_2 + 0.100000000000 x_3\n",
      "     + 0.050000000000 x_4 <= 1000\n",
      " c5: x_1 + s_1 = 800\n",
      " c6: x_2 + s_2 = 750\n",
      " c7: x_3 + s_3 = 600\n",
      " c8: x_4 + s_4 = 500\n",
      "\n",
      "Bounds\n",
      "End\n",
      "\n"
     ]
    }
   ],
   "source": [
    "print(mdl.export_to_string())"
   ]
  },
  {
   "cell_type": "code",
   "execution_count": 13,
   "metadata": {},
   "outputs": [
    {
     "name": "stdout",
     "output_type": "stream",
     "text": [
      "Version identifier: 12.10.0.0 | 2019-11-27 | 843d4de2ae\n",
      "CPXPARAM_Read_DataCheck                          1\n",
      "CPXPARAM_RandomSeed                              201903125\n",
      "Tried aggregator 1 time.\n",
      "LP Presolve eliminated 3 rows and 0 columns.\n",
      "Aggregator did 4 substitutions.\n",
      "Reduced LP has 1 rows, 4 columns, and 4 nonzeros.\n",
      "Presolve time = 0.06 sec. (0.01 ticks)\n",
      "\n",
      "Iteration log . . .\n",
      "Iteration:     1   Dual objective     =         64625.000000\n"
     ]
    }
   ],
   "source": [
    "#Optimization\n",
    "\n",
    "solucion = mdl.solve(log_output=True)"
   ]
  },
  {
   "cell_type": "code",
   "execution_count": 14,
   "metadata": {},
   "outputs": [
    {
     "data": {
      "text/plain": [
       "<JobSolveStatus.OPTIMAL_SOLUTION: 2>"
      ]
     },
     "execution_count": 14,
     "metadata": {},
     "output_type": "execute_result"
    }
   ],
   "source": [
    "mdl.get_solve_status()"
   ]
  },
  {
   "cell_type": "code",
   "execution_count": 15,
   "metadata": {},
   "outputs": [
    {
     "name": "stdout",
     "output_type": "stream",
     "text": [
      "solution for: Modelo\n",
      "objective: 64625.000\n",
      "x_1 = 800.000\n",
      "x_2 = 750.000\n",
      "x_3 = 387.500\n",
      "x_4 = 500.000\n",
      "s_3 = 212.500\n"
     ]
    }
   ],
   "source": [
    "solucion.display()"
   ]
  },
  {
   "cell_type": "markdown",
   "metadata": {},
   "source": [
    "## References\n",
    "\n",
    "[1] Taha, H. A. (2017). Operations research an introduction. © Pearson Education Limited 2017."
   ]
  }
 ],
 "metadata": {
  "kernelspec": {
   "display_name": "Python 3",
   "language": "python",
   "name": "python3"
  },
  "language_info": {
   "codemirror_mode": {
    "name": "ipython",
    "version": 3
   },
   "file_extension": ".py",
   "mimetype": "text/x-python",
   "name": "python",
   "nbconvert_exporter": "python",
   "pygments_lexer": "ipython3",
   "version": "3.7.6"
  }
 },
 "nbformat": 4,
 "nbformat_minor": 4
}
