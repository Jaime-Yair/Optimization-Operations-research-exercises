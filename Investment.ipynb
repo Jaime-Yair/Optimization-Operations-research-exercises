{
 "cells": [
  {
   "cell_type": "markdown",
   "metadata": {},
   "source": [
    "# Investment"
   ]
  },
  {
   "cell_type": "markdown",
   "metadata": {},
   "source": [
    "### For more information about the software: <a href=\"https://www.ibm.com/mx-es/analytics/cplex-optimizer\">Here</a>\n",
    "\n",
    "### <a href=\" https://jaime-yair.github.io/\">Home </a>\n"
   ]
  },
  {
   "cell_type": "markdown",
   "metadata": {},
   "source": [
    "This is an example from:\n",
    "\n",
    "Taha, H. A. (2017). Operations research an introduction. © Pearson Education Limited 2017."
   ]
  },
  {
   "cell_type": "markdown",
   "metadata": {},
   "source": [
    "Multitudes of investment opportunities are available to today’s investor. Examples of\n",
    "investment problems are capital budgeting for projects, bond investment strategy, stock\n",
    "portfolio selection, and establishment of bank loan policy. In many of these situations,\n",
    "LP can be used to select the optimal mix of opportunities that will maximize return\n",
    "while meeting requirements set by the investor and the market."
   ]
  },
  {
   "cell_type": "markdown",
   "metadata": {},
   "source": [
    "## bank Loan Model\n",
    "\n",
    "Bank One is in the process of devising a loan policy that involves a maximum of $12 million. The\n",
    "following table provides the pertinent data about available loans."
   ]
  },
  {
   "cell_type": "markdown",
   "metadata": {},
   "source": [
    "| Type of loan | Interest rate | Bad-debt ratio |\n",
    "| --- | --- | --- | \n",
    "| Personal | 0.140 | 0.10| \n",
    "| Car | 0.130 | 0.07 | \n",
    "| Home | 0.120 | 0.03 | \n",
    "| Farm | 0.125 | 0.05 | \n",
    "| Commercial | 0.100 | 0.02 | "
   ]
  },
  {
   "cell_type": "markdown",
   "metadata": {},
   "source": [
    "Bad debts are unrecoverable and produce no interest revenue.\n",
    "Competition with other financial institutions dictates the allocation of at least 40% of the\n",
    "funds to farm and commercial loans. To assist the housing industry in the region, home loans\n",
    "must equal at least 50% of the personal, car, and home loans. The bank limits the overall ratio of\n",
    "bad debts on all loans to at most 4%."
   ]
  },
  {
   "cell_type": "markdown",
   "metadata": {},
   "source": [
    "Mathematical Model: The situation deals with determining the amount of loan in each\n",
    "category, thus leading to the following definitions of the variables:\n",
    "\n",
    "### Variables\n",
    "\n",
    "$x_1$ Personal loans\n",
    "\n",
    "$x_2$ Car loans\n",
    "\n",
    "$x_3$ Home loans\n",
    "\n",
    "$x_4$ Farm loans\n",
    "\n",
    "$x_5$ Commercial loans"
   ]
  },
  {
   "cell_type": "markdown",
   "metadata": {},
   "source": [
    "The objective of the Bank One is to maximize net return, the difference between interest revenue\n",
    "and lost bad debts. Interest revenue is accrued on loans in good standing. For example, when\n",
    "10% of personal loans are lost to bad debt, the bank will receive interest on 90% of the loan—that\n",
    "is, it will receive 14% interest on .9x1 of the original loan x1. The same reasoning applies to the\n",
    " remaining four types of loans. Thus,"
   ]
  },
  {
   "cell_type": "markdown",
   "metadata": {},
   "source": [
    "Total interest $= 0.14 \\, (0.9x_1) + 0.13 \\, (0.93x_2) + 0.12\\,(0.97x_3) + 0.125\\,(0.95x_4) + 0.1(0.98x_5)$\n",
    "\n",
    "Total interest $=0.126x_1 + 0.1209x_2 + 0.1164x_3 + 0.11875x_4 + 0.098x_5$\n",
    "\n",
    "We also have\n",
    "\n",
    "Bad debt $= 0.1x_1 + 0.07x_2 + 0.03x_3 + 0.05x_4 + 0.02x_5$"
   ]
  },
  {
   "cell_type": "markdown",
   "metadata": {},
   "source": [
    "### The objective function combines interest revenue and bad debt as:"
   ]
  },
  {
   "cell_type": "markdown",
   "metadata": {},
   "source": [
    "Maximize $z$ = Total interest - Bad debt"
   ]
  },
  {
   "cell_type": "markdown",
   "metadata": {},
   "source": [
    "$= (0.126x_1 + .1209x_2 + 0.1164x_3 + 0.11875x_4 + 0.098x_5)-(0.1x_1+0.07x_2+0.03x_3+0.05x_4+0.02x_5)$\n",
    "\n",
    "$=0.026x_1+0.0509x_2+0.0864x_3+0.06875x_4+0.078x_5$"
   ]
  },
  {
   "cell_type": "markdown",
   "metadata": {},
   "source": [
    "### The problem has five constraints:\n",
    "\n",
    "#### 1. Total funds should not exceed 12 (million):\n",
    "\n",
    "$x_1+x_2+x_3+x_4+x_5<=12$\n",
    "\n",
    "#### 2. Farm and commercial loans equal at least 40% of all loans:\n",
    "$x_4 + x_5 >= 0.4\\,(x_1 + x_2 + x_3 + x_4 +x_5)$\n",
    "\n",
    "#### 3. Home loans should equal at least 50% of personal, car, and home loans:\n",
    "$x_3 >= 0.5(x_1 + x_2 + x_3)$\n",
    "\n",
    "#### 4. Bad debts should not exceed 4% of all loans:\n",
    "$0.1x_1 + 0.07x_2 + 0.03x_3 + 0.05x_4 + 0.02x_5 <=0.04\\,(x_1 + x_2 + x_3 + x_4 + x_5)$\n",
    "\n",
    "#### 5. Nonnegativity:\n",
    "$x_1, \\, x_2, \\, x_3, \\, x_4, \\, x_5>=0$"
   ]
  },
  {
   "cell_type": "markdown",
   "metadata": {},
   "source": [
    "## Python Implementation"
   ]
  },
  {
   "cell_type": "code",
   "execution_count": 1,
   "metadata": {},
   "outputs": [],
   "source": [
    "from docplex.mp.model import Model\n",
    "import docplex.mp.solution as Solucion"
   ]
  },
  {
   "cell_type": "code",
   "execution_count": 2,
   "metadata": {},
   "outputs": [
    {
     "data": {
      "text/plain": [
       "docplex.mp.LinearConstraint[](0.100personal_loans+0.070car_loans+0.030home_loans+0.050farm_loans+0.020commercial_loans,LE,0.400personal_loans+0.400car_loans+0.400home_loans+0.400farm_loans+0.400commercial_loans)"
      ]
     },
     "execution_count": 2,
     "metadata": {},
     "output_type": "execute_result"
    }
   ],
   "source": [
    "# Model formulation\n",
    "mdl = Model(\" bank_Loan_Model\")\n",
    "\n",
    "#Variables\n",
    "x_1=mdl.continuous_var(name='personal_loans')\n",
    "x_2=mdl.continuous_var(name='car_loans')\n",
    "x_3=mdl.continuous_var(name='home_loans')\n",
    "x_4=mdl.continuous_var(name='farm_loans')\n",
    "x_5=mdl.continuous_var(name='commercial_loans')\n",
    "\n",
    "#Objective function\n",
    "mdl.maximize(0.026*x_1 + .0509*x_2 + .0864*x_3 + .06875*x_4 + .078*x_5)\n",
    "\n",
    "#Constraints\n",
    "# 1. Total funds should not exceed 12 (million):\n",
    "mdl.add_constraint(x_1+x_2+x_3+x_4+x_5<=12)\n",
    "\n",
    "# 2. Farm and commercial loans equal at least 40% of all loans:\n",
    "mdl.add_constraint(x_4+x_5>=0.4*(x_1+x_2+x_3+x_4+x_5))\n",
    "\n",
    "# 3. Home loans should equal at least 50% of personal, car, and home loans:\n",
    "mdl.add_constraint(x_3>=0.5*(x_1+x_2+x_3))\n",
    "\n",
    "#4. Bad debts should not exceed 4% of all loans:\n",
    "mdl.add_constraint(0.1*x_1+0.07*x_2+0.03*x_3+0.05*x_4+0.02*x_5<=0.4*(x_1+x_2+x_3+x_4+x_5))"
   ]
  },
  {
   "cell_type": "code",
   "execution_count": 3,
   "metadata": {},
   "outputs": [
    {
     "name": "stdout",
     "output_type": "stream",
     "text": [
      "\\ This file has been generated by DOcplex\n",
      "\\ ENCODING=ISO-8859-1\n",
      "\\Problem name:  bank_Loan_Model\n",
      "\n",
      "Maximize\n",
      " obj: 0.026000000000 personal_loans + 0.050900000000 car_loans\n",
      "      + 0.086400000000 home_loans + 0.068750000000 farm_loans\n",
      "      + 0.078000000000 commercial_loans\n",
      "Subject To\n",
      " c1: personal_loans + car_loans + home_loans + farm_loans + commercial_loans\n",
      "      <= 12\n",
      " c2: 0.600000000000 farm_loans + 0.600000000000 commercial_loans\n",
      "     - 0.400000000000 personal_loans - 0.400000000000 car_loans\n",
      "     - 0.400000000000 home_loans >= 0\n",
      " c3: 0.500000000000 home_loans - 0.500000000000 personal_loans\n",
      "     - 0.500000000000 car_loans >= 0\n",
      " c4: - 0.300000000000 personal_loans - 0.330000000000 car_loans\n",
      "     - 0.370000000000 home_loans - 0.350000000000 farm_loans\n",
      "     - 0.380000000000 commercial_loans <= 0\n",
      "\n",
      "Bounds\n",
      "End\n",
      "\n"
     ]
    }
   ],
   "source": [
    "#Model display\n",
    "\n",
    "print(mdl.export_to_string())"
   ]
  },
  {
   "cell_type": "code",
   "execution_count": 4,
   "metadata": {},
   "outputs": [
    {
     "name": "stdout",
     "output_type": "stream",
     "text": [
      "Version identifier: 12.10.0.0 | 2019-11-27 | 843d4de2ae\n",
      "CPXPARAM_Read_DataCheck                          1\n",
      "CPXPARAM_RandomSeed                              201903125\n",
      "Tried aggregator 1 time.\n",
      "LP Presolve eliminated 3 rows and 4 columns.\n",
      "Aggregator did 1 substitutions.\n",
      "All rows and columns eliminated.\n",
      "Presolve time = 0.00 sec. (0.00 ticks)\n"
     ]
    }
   ],
   "source": [
    "#Optimization\n",
    "\n",
    "solucion = mdl.solve(log_output=True)"
   ]
  },
  {
   "cell_type": "code",
   "execution_count": 5,
   "metadata": {},
   "outputs": [
    {
     "data": {
      "text/plain": [
       "<JobSolveStatus.OPTIMAL_SOLUTION: 2>"
      ]
     },
     "execution_count": 5,
     "metadata": {},
     "output_type": "execute_result"
    }
   ],
   "source": [
    "mdl.get_solve_status()"
   ]
  },
  {
   "cell_type": "code",
   "execution_count": 6,
   "metadata": {},
   "outputs": [
    {
     "name": "stdout",
     "output_type": "stream",
     "text": [
      "solution for:  bank_Loan_Model\n",
      "objective: 0.996\n",
      "home_loans = 7.200\n",
      "commercial_loans = 4.800\n"
     ]
    }
   ],
   "source": [
    "solucion.display()"
   ]
  },
  {
   "cell_type": "markdown",
   "metadata": {},
   "source": [
    "## References\n",
    "\n",
    "[1] Taha, H. A. (2017). Operations research an introduction. © Pearson Education Limited 2017."
   ]
  }
 ],
 "metadata": {
  "kernelspec": {
   "display_name": "Python 3",
   "language": "python",
   "name": "python3"
  },
  "language_info": {
   "codemirror_mode": {
    "name": "ipython",
    "version": 3
   },
   "file_extension": ".py",
   "mimetype": "text/x-python",
   "name": "python",
   "nbconvert_exporter": "python",
   "pygments_lexer": "ipython3",
   "version": "3.7.6"
  }
 },
 "nbformat": 4,
 "nbformat_minor": 4
}
